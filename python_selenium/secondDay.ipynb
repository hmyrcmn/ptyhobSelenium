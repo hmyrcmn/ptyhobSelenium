{
  "nbformat": 4,
  "nbformat_minor": 0,
  "metadata": {
    "colab": {
      "provenance": []
    },
    "kernelspec": {
      "name": "python3",
      "display_name": "Python 3"
    },
    "language_info": {
      "name": "python"
    }
  },
  "cells": [
    {
      "cell_type": "code",
      "execution_count": 1,
      "metadata": {
        "colab": {
          "base_uri": "https://localhost:8080/"
        },
        "id": "q0314FxWSqCS",
        "outputId": "55c2e1d5-3bfc-4e21-a0b1-59ee7748ae85"
      },
      "outputs": [
        {
          "output_type": "stream",
          "name": "stdout",
          "text": [
            "please enter the age 11\n",
            "my age is :11\n",
            "my age is: 11\n",
            "my age is:  11\n",
            "my age is 11\n"
          ]
        }
      ],
      "source": [
        "#learning of second day\n",
        "myAge= int(input(\"please enter the age \"))\n",
        "#print(\"my age is :\"+myAge) #syntax error addition stirng and ınt value\n",
        "# solution1 \n",
        "print(\"my age is :\"+str(myAge))  \n",
        "# solution2\n",
        "print(\"my age is: {enteredAgeValue}\".format(enteredAgeValue=myAge)) \n",
        "#solution3\n",
        "print(\"my age is: \",myAge) \n",
        "# solution4 f-string\n",
        "print(f\"my age is {myAge}\")\n",
        "\n",
        "\n"
      ]
    },
    {
      "cell_type": "code",
      "source": [],
      "metadata": {
        "id": "pHx8sIq-Wev8"
      },
      "execution_count": null,
      "outputs": []
    },
    {
      "cell_type": "code",
      "source": [
        "#list [] allowed mix data type : int float boolen\n",
        "\n",
        "languages=[\"c\",\"java\",\"python\",\"c++\"]\n",
        "print(\"languages type: \",type(languages))\n",
        "print(\"fisrt value of languages list \",languages[0])"
      ],
      "metadata": {
        "colab": {
          "base_uri": "https://localhost:8080/"
        },
        "id": "vhozXXAeSrDN",
        "outputId": "d646736b-aeca-4166-a9fe-802f9f964062"
      },
      "execution_count": 2,
      "outputs": [
        {
          "output_type": "stream",
          "name": "stdout",
          "text": [
            "languages type:  <class 'list'>\n",
            "fisrt value of languages list  c\n"
          ]
        }
      ]
    },
    {
      "cell_type": "code",
      "source": [
        "# add the value of languages end of line\n",
        "languages.append(True)\n",
        "print(languages)"
      ],
      "metadata": {
        "colab": {
          "base_uri": "https://localhost:8080/"
        },
        "id": "0aJLlORQWRRe",
        "outputId": "01bc2dc6-59a9-4c0b-c4e6-8458149f8a55"
      },
      "execution_count": 3,
      "outputs": [
        {
          "output_type": "stream",
          "name": "stdout",
          "text": [
            "['c', 'java', 'python', 'c++', True]\n"
          ]
        }
      ]
    },
    {
      "cell_type": "code",
      "source": [
        "#deleted en of item\n",
        "languages.pop() \n",
        "print(languages)\n",
        "languages.pop(2)\n",
        "print(languages) #2.item deleten :python "
      ],
      "metadata": {
        "colab": {
          "base_uri": "https://localhost:8080/"
        },
        "id": "jrfiu7hZWS_7",
        "outputId": "21661cec-f6db-4fea-cb39-45f7445c47f5"
      },
      "execution_count": 4,
      "outputs": [
        {
          "output_type": "stream",
          "name": "stdout",
          "text": [
            "['c', 'java', 'python', 'c++']\n",
            "['c', 'java', 'c++']\n"
          ]
        }
      ]
    },
    {
      "cell_type": "code",
      "source": [
        "languages.append(\"c\")\n",
        "print(languages)\n",
        "languages.remove(\"c\") # finded first item of resarched deleted \n",
        "print(languages) \n",
        "\n",
        "\n"
      ],
      "metadata": {
        "colab": {
          "base_uri": "https://localhost:8080/"
        },
        "id": "n9cjyYxEWUdo",
        "outputId": "80a66ddb-54eb-4c24-f3a3-542933b6c8fe"
      },
      "execution_count": 5,
      "outputs": [
        {
          "output_type": "stream",
          "name": "stdout",
          "text": [
            "['c', 'java', 'c++', 'c']\n",
            "['java', 'c++', 'c']\n"
          ]
        }
      ]
    },
    {
      "cell_type": "code",
      "source": [
        "\n",
        "#import a list\n",
        "languages.extend([\"assambly\",\"c#\"])\n",
        "print(languages)\n"
      ],
      "metadata": {
        "colab": {
          "base_uri": "https://localhost:8080/"
        },
        "id": "TEH-9HlYWiFt",
        "outputId": "bb186eb2-4b41-4308-d57d-fcc12aa0b081"
      },
      "execution_count": 6,
      "outputs": [
        {
          "output_type": "stream",
          "name": "stdout",
          "text": [
            "['java', 'c++', 'c', 'assambly', 'c#']\n"
          ]
        }
      ]
    },
    {
      "cell_type": "code",
      "source": [
        "#learn lennght of list\n",
        "print(len(languages))"
      ],
      "metadata": {
        "colab": {
          "base_uri": "https://localhost:8080/"
        },
        "id": "MjTchsKuYjLu",
        "outputId": "77c991ef-07c4-46db-dedd-454830fdeeb3"
      },
      "execution_count": 14,
      "outputs": [
        {
          "output_type": "stream",
          "name": "stdout",
          "text": [
            "5\n"
          ]
        }
      ]
    },
    {
      "cell_type": "code",
      "source": [
        "#loops : for while do-while foreach\n",
        "#adım sayısı bilinen durumlarda kullanılır \n",
        "\n",
        "#rules ramge func must be int value\n",
        "for i in range(10):\n",
        "  print(i)\n",
        "\n",
        "\n"
      ],
      "metadata": {
        "colab": {
          "base_uri": "https://localhost:8080/"
        },
        "id": "Pof7xfpPW28J",
        "outputId": "d520ae93-fdc1-435f-a312-5ff69a568653"
      },
      "execution_count": 8,
      "outputs": [
        {
          "output_type": "stream",
          "name": "stdout",
          "text": [
            "0\n",
            "1\n",
            "2\n",
            "3\n",
            "4\n",
            "5\n",
            "6\n",
            "7\n",
            "8\n",
            "9\n"
          ]
        }
      ]
    },
    {
      "cell_type": "code",
      "source": [
        "for i in range(3,5):#3-4-\n",
        "  print(i)\n"
      ],
      "metadata": {
        "colab": {
          "base_uri": "https://localhost:8080/"
        },
        "id": "28YMku1KXmQ9",
        "outputId": "2c7d1f8c-d13c-4dd8-b47e-ed275c60763d"
      },
      "execution_count": 9,
      "outputs": [
        {
          "output_type": "stream",
          "name": "stdout",
          "text": [
            "3\n",
            "4\n"
          ]
        }
      ]
    },
    {
      "cell_type": "code",
      "source": [
        "for i in range(0.1)"
      ],
      "metadata": {
        "id": "zfnuqSZVYGwp"
      },
      "execution_count": null,
      "outputs": []
    },
    {
      "cell_type": "code",
      "source": [
        "for i in range(2,10,2): #2 -4-6-8 \n",
        "  print(i)"
      ],
      "metadata": {
        "colab": {
          "base_uri": "https://localhost:8080/"
        },
        "id": "vo16VGThXwfG",
        "outputId": "01f19de1-bf1b-4783-889a-d3332ba13b13"
      },
      "execution_count": 10,
      "outputs": [
        {
          "output_type": "stream",
          "name": "stdout",
          "text": [
            "2\n",
            "4\n",
            "6\n",
            "8\n"
          ]
        }
      ]
    },
    {
      "cell_type": "code",
      "source": [
        "#show languages list of items\n",
        "for language in languages:\n",
        "  print(language) "
      ],
      "metadata": {
        "colab": {
          "base_uri": "https://localhost:8080/"
        },
        "id": "oUZ9dY_9XQ8_",
        "outputId": "fa87548a-9eb7-4169-c44a-e880d90b62e6"
      },
      "execution_count": 11,
      "outputs": [
        {
          "output_type": "stream",
          "name": "stdout",
          "text": [
            "java\n",
            "c++\n",
            "c\n",
            "assambly\n",
            "c#\n"
          ]
        }
      ]
    },
    {
      "cell_type": "code",
      "source": [
        "#loop working i for : 0-1-2-3-4 \n",
        "print(len(languages)) #same of for i in range(5)\n",
        "for i in range(len(languages)):\n",
        "  print(languages[i]) \n",
        "\n"
      ],
      "metadata": {
        "colab": {
          "base_uri": "https://localhost:8080/"
        },
        "id": "AD5zbP4pZZ2k",
        "outputId": "e81796a0-03c4-41a4-d69c-4aebc97ae642"
      },
      "execution_count": 22,
      "outputs": [
        {
          "output_type": "stream",
          "name": "stdout",
          "text": [
            "5\n",
            "java\n",
            "c++\n",
            "c\n",
            "assambly\n",
            "c#\n"
          ]
        }
      ]
    },
    {
      "cell_type": "code",
      "source": [
        "#loop while\n",
        "i=0\n",
        "while i<len(languages):\n",
        "  if(languages[i]==\"c\"):\n",
        "    break # if value match the c values finish the list  ıtems \n",
        "  print(languages[i])\n",
        "  i+=1 # loop control \n",
        "\n",
        "  "
      ],
      "metadata": {
        "colab": {
          "base_uri": "https://localhost:8080/"
        },
        "id": "R9E0wfzEaT-4",
        "outputId": "02a56e6d-44fc-4e3d-b7d5-b9e729df3c89"
      },
      "execution_count": 26,
      "outputs": [
        {
          "output_type": "stream",
          "name": "stdout",
          "text": [
            "java\n",
            "c++\n"
          ]
        }
      ]
    },
    {
      "cell_type": "code",
      "source": [
        "#loop while\n",
        "i=0\n",
        "while i<len(languages):\n",
        "  \n",
        "  print(languages[i]) # print before the control so writed items control c \n",
        " \n",
        "  if(languages[i]==\"c\"):\n",
        "    break # if value match the c values finish the list  ıtems \n",
        "  i+=1 # loop control "
      ],
      "metadata": {
        "colab": {
          "base_uri": "https://localhost:8080/"
        },
        "id": "l7vqRs1ZbzCD",
        "outputId": "0a34a2ba-6f83-4598-9f57-68b193d8a544"
      },
      "execution_count": 30,
      "outputs": [
        {
          "output_type": "stream",
          "name": "stdout",
          "text": [
            "java\n",
            "c++\n",
            "c\n"
          ]
        }
      ]
    },
    {
      "cell_type": "code",
      "source": [
        "# functions define witf def keyword  , work with parameters (lang )is list\n",
        "# this funct write the list items \n",
        "def writeList (lang):\n",
        "  for i in range(len(lang)):\n",
        "    print(lang[i])\n",
        "\n",
        "writeList(languages)"
      ],
      "metadata": {
        "colab": {
          "base_uri": "https://localhost:8080/"
        },
        "id": "LkeAlm1bcKok",
        "outputId": "e070b81f-8e5c-4013-c3b6-4d75d5ac6e54"
      },
      "execution_count": 37,
      "outputs": [
        {
          "output_type": "stream",
          "name": "stdout",
          "text": [
            "java\n",
            "c++\n",
            "c\n",
            "assambly\n",
            "c#\n"
          ]
        }
      ]
    },
    {
      "cell_type": "code",
      "source": [
        "# return the value of func \n",
        "def addItem(x,lang):\n",
        "  lang.append(x)\n",
        "  return len(lang)\n",
        "\n",
        "print(len(languages))\n",
        "addItem(\"php\",languages)\n"
      ],
      "metadata": {
        "colab": {
          "base_uri": "https://localhost:8080/"
        },
        "id": "4XQ-P9AdduVg",
        "outputId": "300a1fe6-19c1-4a32-e6a8-16a59b756c76"
      },
      "execution_count": 40,
      "outputs": [
        {
          "output_type": "stream",
          "name": "stdout",
          "text": [
            "7\n"
          ]
        },
        {
          "output_type": "execute_result",
          "data": {
            "text/plain": [
              "8"
            ]
          },
          "metadata": {},
          "execution_count": 40
        }
      ]
    }
  ]
}