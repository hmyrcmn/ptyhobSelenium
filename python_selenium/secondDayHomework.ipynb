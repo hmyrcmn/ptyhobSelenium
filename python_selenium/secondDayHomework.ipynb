{
  "nbformat": 4,
  "nbformat_minor": 0,
  "metadata": {
    "colab": {
      "provenance": []
    },
    "kernelspec": {
      "name": "python3",
      "display_name": "Python 3"
    },
    "language_info": {
      "name": "python"
    }
  },
  "cells": [
    {
      "cell_type": "code",
      "execution_count": 23,
      "metadata": {
        "colab": {
          "base_uri": "https://localhost:8080/"
        },
        "id": "_-AEVOmWfoes",
        "outputId": "911cdfe9-cd27-4a04-9a1e-67edab03d52e"
      },
      "outputs": [
        {
          "output_type": "stream",
          "name": "stdout",
          "text": [
            "['hum cim']\n",
            "['hum cim', 'sum cim']\n",
            "['hum cim', 'sum cim', 'eng dem']\n"
          ]
        }
      ],
      "source": [
        "#Aldığı isim soy isim ile listeye öğrenci ekleyen\n",
        "\n",
        "nameSur=[]\n",
        "def addNameSur(name,surname):\n",
        "  nameSur.append(name+\" \"+surname)\n",
        "  print(nameSur)\n",
        "\n",
        "\n",
        "addNameSur(\"hum\",\"cim\")\n",
        "addNameSur(\"sum\",\"cim\")\n",
        "addNameSur(\"eng\",\"dem\")"
      ]
    },
    {
      "cell_type": "code",
      "source": [
        "def write(x):\n",
        "  for i in x:\n",
        "    print(i)\n",
        "\n",
        "write(nameSur)"
      ],
      "metadata": {
        "colab": {
          "base_uri": "https://localhost:8080/"
        },
        "id": "ZrsL0vWMiteM",
        "outputId": "e15fcf16-30b9-46f0-9730-6da08646a30f"
      },
      "execution_count": null,
      "outputs": [
        {
          "output_type": "stream",
          "name": "stdout",
          "text": [
            "hum cim\n",
            "sum cim\n",
            "eng dem\n"
          ]
        }
      ]
    },
    {
      "cell_type": "code",
      "source": [
        "# not iclude if not find in list\n",
        "#Aldığı isim soy isim ile eşleşen değeri listeden kaldıran\n",
        "\n",
        "#solution1 \n",
        "write(nameSur)\n",
        "\n",
        "def removeMatch(x,y):\n",
        "  destination=x+\" \"+y\n",
        " # print(destination)\n",
        "  nameSur.remove(destination)\n",
        "\n",
        "removeMatch(\"hum\",\"cim\")\n",
        "\n",
        "\n",
        "write(nameSur)"
      ],
      "metadata": {
        "colab": {
          "base_uri": "https://localhost:8080/"
        },
        "id": "3L6c1h2TgM-2",
        "outputId": "d109c19d-cb4c-4503-9958-0dc3f42d14fc"
      },
      "execution_count": null,
      "outputs": [
        {
          "output_type": "stream",
          "name": "stdout",
          "text": [
            "hum cim\n",
            "sum cim\n",
            "eng dem\n",
            "sum cim\n",
            "eng dem\n"
          ]
        }
      ]
    },
    {
      "cell_type": "code",
      "source": [
        "# not iclude if not find in list\n",
        "#Aldığı isim soy isim ile eşleşen değeri listeden kaldıran\n",
        "\n",
        "#solution2\n",
        "\n",
        "def removeMatch(x,y):\n",
        "  beforeLenght=len(nameSur)\n",
        "  destination=x+\" \"+y\n",
        " # print(destination)\n",
        "  for i in range(len(nameSur)):\n",
        "    if(nameSur[i]==destination):\n",
        "      nameSur.pop(i)\n",
        "      break \n",
        "      \n",
        "      \n",
        "\n",
        "removeMatch(\"sum\",\"cim\")\n",
        "\n"
      ],
      "metadata": {
        "id": "lipMWIf3lS-2"
      },
      "execution_count": 24,
      "outputs": []
    },
    {
      "cell_type": "code",
      "source": [
        "#Aldığı isim soy isim ile listeye öğrenci ekleyen\n",
        "\n",
        "nameSur=[]\n",
        "def addNameSur(name,surname):\n",
        "  nameSur.append(name+\" \"+surname)\n",
        "  print(nameSur)\n",
        "\n",
        "\n",
        "addNameSur(\"hum\",\"cim\")\n",
        "addNameSur(\"sum\",\"cim\")\n",
        "addNameSur(\"eng\",\"dem\")\n",
        "\n",
        "def write(x):\n",
        "  for i in x:\n",
        "    print(i)\n",
        "\n",
        "\n",
        "#Listeye birden fazla öğrenci eklemeyi mümkün kılan\n",
        "def addWithLoop():\n",
        "  flag1=True\n",
        "  while(flag1):\n",
        "    answer=input(\"do you wan to continue  add ıtem: ' \\n' enter the value : yes or no \")\n",
        "    print(answer)\n",
        "    if(answer == \"yes\"):\n",
        "      addName=input(\"enter will add name : \")\n",
        "      addSurname=input(\"enter will add name : \")\n",
        "      addNameSur(addName,addSurname)\n",
        "      \n",
        "    else:\n",
        "      flag1=False\n",
        "\n",
        "addWithLoop()\n",
        "print(\"after the show added list \")\n",
        "write(nameSur)\n"
      ],
      "metadata": {
        "colab": {
          "base_uri": "https://localhost:8080/"
        },
        "id": "Yp_lDo-PlaJx",
        "outputId": "670b1867-26f3-4af9-e0da-aa44ee566ac2"
      },
      "execution_count": 30,
      "outputs": [
        {
          "output_type": "stream",
          "name": "stdout",
          "text": [
            "['hum cim']\n",
            "['hum cim', 'sum cim']\n",
            "['hum cim', 'sum cim', 'eng dem']\n",
            "do you wan to continue  add ıtem: ' \n",
            "' enter the value : yes or no yes\n",
            "yes\n",
            "enter will add name : ayse\n",
            "enter will add name : çim\n",
            "['hum cim', 'sum cim', 'eng dem', 'ayse çim']\n",
            "do you wan to continue  add ıtem: ' \n",
            "' enter the value : yes or no yes\n",
            "yes\n",
            "enter will add name : kubos\n",
            "enter will add name : uygu\n",
            "['hum cim', 'sum cim', 'eng dem', 'ayse çim', 'kubos uygu']\n",
            "do you wan to continue  add ıtem: ' \n",
            "' enter the value : yes or no no\n",
            "no\n",
            "after the show added list \n",
            "hum cim\n",
            "sum cim\n",
            "eng dem\n",
            "ayse çim\n",
            "kubos uygu\n"
          ]
        }
      ]
    },
    {
      "cell_type": "code",
      "source": [
        "#Listedeki tüm öğrencileri tek tek ekrana yazdıran\n",
        "def write(x):\n",
        "  for i in x:\n",
        "    print(i)\n",
        "write(nameSur)\n"
      ],
      "metadata": {
        "colab": {
          "base_uri": "https://localhost:8080/"
        },
        "id": "Ggyowm1PtTo3",
        "outputId": "5db2a2c8-03f7-4ae2-c2b4-ba59b6ffac8f"
      },
      "execution_count": 31,
      "outputs": [
        {
          "output_type": "stream",
          "name": "stdout",
          "text": [
            "hum cim\n",
            "sum cim\n",
            "eng dem\n",
            "ayse çim\n",
            "kubos uygu\n"
          ]
        }
      ]
    },
    {
      "cell_type": "code",
      "source": [
        "#Öğrencinin listedeki index numarası öğrenci numarası olarak kabul edildiğini düşünerek öğrencinin numarasını öğrenmeyi mümkün kılan\n",
        "\n",
        "def findItem(name, surname):\n",
        "  destination= name + \" \" + surname\n",
        "  ıd=nameSur.index(destination)\n",
        "  return ıd\n",
        "\n",
        "\n",
        "name=input(\"enter of learn ıd s name : \")\n",
        "sur=input(\"enter of learn ıd s surname: \")\n",
        "id=findItem(name ,sur)\n",
        "print(f\"{name} and {sur} 's ıd is :{id}\")"
      ],
      "metadata": {
        "colab": {
          "base_uri": "https://localhost:8080/"
        },
        "id": "nmDv7-z_t0uk",
        "outputId": "ce9b638f-6c7a-4616-e9dd-bd52f2d6e7e5"
      },
      "execution_count": 33,
      "outputs": [
        {
          "output_type": "stream",
          "name": "stdout",
          "text": [
            "enter of learn ıd s name : kubos\n",
            "enter of learn ıd s surname: uygu\n",
            "kubos and uygu 's ıd is :4\n"
          ]
        }
      ]
    },
    {
      "cell_type": "code",
      "source": [
        "#Listeden birden fazla öğrenci silmeyi mümkün kılan (döngü kullanınız)\n",
        "\n",
        "def removeMatch(x,y):\n",
        "  destination=x+\" \"+y\n",
        " # print(destination)\n",
        "  nameSur.remove(destination)\n",
        "\n",
        "def deleteWithLoop():\n",
        "  flag2=True\n",
        "  while(flag2):\n",
        "    answer=input(\"do you wan to continue  delete ıtem: ' \\n' enter the value : yes or no \")\n",
        "    print(answer)\n",
        "    if(answer == \"yes\"):\n",
        "      delName=input(\"enter will add name : \")\n",
        "      delSurname=input(\"enter will add name : \")\n",
        "      removeMatch(delName,delSurname)\n",
        "    else:\n",
        "      flag2=False\n",
        "\n",
        "deleteWithLoop()\n",
        "print(\"after the show deleted list \")\n",
        "write(nameSur)"
      ],
      "metadata": {
        "colab": {
          "base_uri": "https://localhost:8080/"
        },
        "id": "LTEr-J3z-NZ8",
        "outputId": "4d1470ce-9390-49b8-d16f-624d353cace4"
      },
      "execution_count": 34,
      "outputs": [
        {
          "output_type": "stream",
          "name": "stdout",
          "text": [
            "do you wan to continue  delete ıtem: ' \n",
            "' enter the value : yes or no yes\n",
            "yes\n",
            "enter will add name : hum\n",
            "enter will add name : cim\n",
            "do you wan to continue  delete ıtem: ' \n",
            "' enter the value : yes or no no\n",
            "no\n",
            "after the show deleted list \n",
            "sum cim\n",
            "eng dem\n",
            "ayse çim\n",
            "kubos uygu\n"
          ]
        }
      ]
    }
  ]
}